{
  "nbformat": 4,
  "nbformat_minor": 0,
  "metadata": {
    "colab": {
      "provenance": []
    },
    "kernelspec": {
      "name": "python3",
      "display_name": "Python 3"
    },
    "language_info": {
      "name": "python"
    }
  },
  "cells": [
    {
      "cell_type": "code",
      "source": [
        "import pandas as pd\n",
        "from openpyxl import load_workbook\n",
        "\n",
        "\n",
        "file_path = \"/content/food2_week45.xlsx\"\n",
        "sheet_name = \"US\"\n",
        "\n",
        "\n",
        "df = pd.read_excel(file_path, sheet_name=sheet_name, engine='openpyxl')\n",
        "\n",
        "\n",
        "wb = load_workbook(file_path)\n",
        "sheet = wb[sheet_name]\n",
        "\n",
        "\n",
        "rows_to_drop = list(range(18, 36)) + list(range(107, 138)) + list(range(148, 166)) + list(range(170, 186))\n",
        "\n",
        "\n",
        "for row in sorted(rows_to_drop, reverse=True):\n",
        "    sheet.delete_rows(row)\n",
        "\n",
        "# Combine A40-A42 into one row called \"5-7 people in the household\"\n",
        "# Get data from rows A40, A41, A42\n",
        "row_40 = [cell.value for cell in sheet[40]]\n",
        "row_41 = [cell.value for cell in sheet[41]]\n",
        "row_42 = [cell.value for cell in sheet[42]]\n",
        "\n",
        "# Define a helper function to handle non-numeric values\n",
        "def safe_sum(*args):\n",
        "    return sum(arg for arg in args if isinstance(arg, (int, float)))\n",
        "\n",
        "# Combine the relevant columns from A40-A42\n",
        "combined_row = ['5-7 people in the household'] + [safe_sum(x, y, z) for x, y, z in zip(row_40[1:], row_41[1:], row_42[1:])]\n",
        "\n",
        "# Combine the relevant columns from A40-A42\n",
        "#combined_row = ['5-7 people in the household'] + [sum(x) for x in zip(row_40[1:], row_41[1:], row_42[1:])]\n",
        "\n",
        "#Delete the original rows A40-A42\n",
        "sheet.delete_rows(40, 3)  # Deletes rows A40-A42 (the new row will be at A40)\n",
        "\n",
        "#Insert the combined row at row 40\n",
        "sheet.insert_rows(40)  # Insert a new row at position 40\n",
        "for col_idx, value in enumerate(combined_row, start=1):\n",
        "    sheet.cell(row=40, column=col_idx, value=value)\n",
        "\n",
        "\n",
        "output_file = \"/content/cleaned_45_with_combined_row.xlsx\"\n",
        "wb.save(output_file)\n",
        "\n",
        "\n",
        "print(f\"Cleaned data with combined row saved to {output_file}\")\n",
        "\n",
        "\n",
        "\n"
      ],
      "metadata": {
        "colab": {
          "base_uri": "https://localhost:8080/"
        },
        "id": "_X9yPbxCEngq",
        "outputId": "4c39ae0a-950d-458d-c5e0-519e5e92e819"
      },
      "execution_count": null,
      "outputs": [
        {
          "output_type": "stream",
          "name": "stdout",
          "text": [
            "Cleaned data with combined row saved to /content/cleaned_45_with_combined_row.xlsx\n"
          ]
        }
      ]
    }
  ]
}